{
  "nbformat": 4,
  "nbformat_minor": 0,
  "metadata": {
    "colab": {
      "provenance": []
    },
    "kernelspec": {
      "name": "python3",
      "display_name": "Python 3"
    },
    "language_info": {
      "name": "python"
    }
  },
  "cells": [
    {
      "cell_type": "code",
      "execution_count": null,
      "metadata": {
        "id": "iKNH6xN8W_So"
      },
      "outputs": [],
      "source": [
        "import pandas as pd\n",
        "from google.colab import files\n",
        "Data = files.upload()"
      ]
    },
    {
      "cell_type": "code",
      "source": [
        "print (Data)"
      ],
      "metadata": {
        "id": "QjGc3BjsXRT9"
      },
      "execution_count": null,
      "outputs": []
    },
    {
      "cell_type": "code",
      "source": [
        "# Q. 1. What is the range of selling prices in the dataset?\n",
        "import pandas as pd\n",
        "\n",
        "# Load the dataset\n",
        "df = pd.read_csv('BIKE_DETAILS.csv')  # Update the file path if needed\n",
        "\n",
        "# Calculate the range of selling prices\n",
        "min_price = df['selling_price'].min()\n",
        "max_price = df['selling_price'].max()\n",
        "price_range = max_price - min_price\n",
        "\n",
        "print(\"Minimum selling price:\", min_price)\n",
        "print(\"Maximum selling price:\", max_price)\n",
        "print(\"Range of selling prices:\", price_range)"
      ],
      "metadata": {
        "id": "32c36maxXI07"
      },
      "execution_count": null,
      "outputs": []
    },
    {
      "cell_type": "code",
      "source": [
        "# Q. 2. What is the median selling price for bikes in the dataset?\n",
        "\n",
        "median_price = df['selling_price'].median()\n",
        "print(f\"Median selling price: {median_price} INR\")"
      ],
      "metadata": {
        "id": "XCdelf5iXWE3"
      },
      "execution_count": null,
      "outputs": []
    },
    {
      "cell_type": "code",
      "source": [
        "# Q. 3. What is the most common seller type?\n",
        "\n",
        "common_seller = df['seller_type'].value_counts().idxmax()\n",
        "print(f\"Most common seller type: {common_seller}\")"
      ],
      "metadata": {
        "id": "D78bjm4yX9C_"
      },
      "execution_count": null,
      "outputs": []
    },
    {
      "cell_type": "code",
      "source": [
        "# Q. 4. How many bikes have driven more than 50,000 kilometers?\n",
        "\n",
        "high_km_bikes = df[df['km_driven'] > 50000].shape[0]\n",
        "print(f\"Bikes with >50,000 km: {high_km_bikes}\")"
      ],
      "metadata": {
        "id": "X1_fQh8bX_ve"
      },
      "execution_count": null,
      "outputs": []
    },
    {
      "cell_type": "code",
      "source": [
        "# Q. 5. What is the average km_driven value for each ownership type?\n",
        "\n",
        "\n",
        "avg_km_by_owner = df.groupby('owner')['km_driven'].mean()\n",
        "print(avg_km_by_owner)"
      ],
      "metadata": {
        "id": "hZuUFfU2YCWO"
      },
      "execution_count": null,
      "outputs": []
    },
    {
      "cell_type": "code",
      "source": [
        "# Q. 6. What proportion of bikes are from the year 2015 or older?\n",
        "\n",
        "proportion_old = df[df['year'] <= 2015].shape[0] / df.shape[0]\n",
        "print(f\"Proportion of bikes from 2015 or older: {proportion_old:.2f}\")"
      ],
      "metadata": {
        "id": "Qd_VOE_pYFLd"
      },
      "execution_count": null,
      "outputs": []
    },
    {
      "cell_type": "code",
      "source": [
        "# Q. 7. What is the trend of missing values across the dataset?\n",
        "\n",
        "missing_values = df.isnull().sum()\n",
        "print(\"Missing values:\\n\", missing_values)"
      ],
      "metadata": {
        "id": "WytfMykRYIC3"
      },
      "execution_count": null,
      "outputs": []
    },
    {
      "cell_type": "code",
      "source": [
        "# Q. 8. What is the highest ex_showroom_price recorded, and for which bike?\n",
        "\n",
        "max_ex_showroom = df.loc[df['ex_showroom_price'].idxmax(), ['name', 'ex_showroom_price']]\n",
        "print(f\"Highest ex_showroom_price: {max_ex_showroom['ex_showroom_price']} INR for {max_ex_showroom['name']}\")"
      ],
      "metadata": {
        "id": "Hk1vqWuuYKuv"
      },
      "execution_count": null,
      "outputs": []
    },
    {
      "cell_type": "code",
      "source": [
        "# Q. 9. What is the total number of bikes listed by each seller type?\n",
        "\n",
        "seller_counts = df['seller_type'].value_counts()\n",
        "print(seller_counts)"
      ],
      "metadata": {
        "id": "6u5qOqMiYNUW"
      },
      "execution_count": null,
      "outputs": []
    },
    {
      "cell_type": "code",
      "source": [
        "# Q. 10. What is the relationship between selling_price and km_driven for first-owner bikes?\n",
        "\n",
        "import seaborn as sns\n",
        "import matplotlib.pyplot as plt\n",
        "first_owner = df[df['owner'] == '1st owner']\n",
        "sns.scatterplot(x='km_driven', y='selling_price', data=first_owner)\n",
        "plt.title('Selling Price vs. Km Driven for 1st Owner Bikes')\n",
        "plt.show()\n",
        "correlation = first_owner[['selling_price', 'km_driven']].corr().iloc[0,1]\n",
        "print(f\"Correlation: {correlation}\")"
      ],
      "metadata": {
        "id": "eOrF3lP9YQwG"
      },
      "execution_count": null,
      "outputs": []
    },
    {
      "cell_type": "code",
      "source": [
        "# Q. 11. Identify and remove outliers in the km_driven column using the IQR method.\n",
        "\n",
        "Q1 = df['km_driven'].quantile(0.25)\n",
        "Q3 = df['km_driven'].quantile(0.75)\n",
        "IQR = Q3 - Q1\n",
        "lower_bound = Q1 - 1.5 * IQR\n",
        "upper_bound = Q3 + 1.5 * IQR\n",
        "outliers = df[(df['km_driven'] < lower_bound) | (df['km_driven'] > upper_bound)]\n",
        "df_no_outliers = df[(df['km_driven'] >= lower_bound) & (df['km_driven'] <= upper_bound)]\n",
        "print(f\"Outliers detected: {outliers.shape[0]}\")\n",
        "print(f\"Dataset size after removing outliers: {df_no_outliers.shape[0]}\")"
      ],
      "metadata": {
        "id": "V6Os9ohpYTrF"
      },
      "execution_count": null,
      "outputs": []
    },
    {
      "cell_type": "code",
      "source": [
        "# Q. 12. Perform a bivariate analysis to visualize the relationship between year and selling_price.\n",
        "\n",
        "sns.scatterplot(x='year', y='selling_price', data=df)\n",
        "plt.title('Year vs. Selling Price')\n",
        "plt.show()"
      ],
      "metadata": {
        "id": "RaT91UusYYA-"
      },
      "execution_count": null,
      "outputs": []
    },
    {
      "cell_type": "code",
      "source": [
        "# Q. 13. What is the average depreciation in selling price based on the bike's age (current year - manufacturing year)?\n",
        "\n",
        "df['age'] = 2025 - df['year']\n",
        "df['depreciation'] = (df['ex_showroom_price'] - df['selling_price']) / df['ex_showroom_price']\n",
        "avg_depreciation = df.groupby('age')['depreciation'].mean()\n",
        "print(avg_depreciation)"
      ],
      "metadata": {
        "id": "7KwC81wnYam3"
      },
      "execution_count": null,
      "outputs": []
    },
    {
      "cell_type": "code",
      "source": [
        "# Q. 14. Which bike names are priced significantly above the average price for their manufacturing year?\n",
        "\n",
        "yearly_stats = df.groupby('year')['selling_price'].agg(['mean', 'std']).reset_index()\n",
        "df = df.merge(yearly_stats, on='year')\n",
        "df['threshold'] = df['mean'] + df['std']\n",
        "high_priced = df[df['selling_price'] > df['threshold']][['name', 'year', 'selling_price']]\n",
        "print(high_priced)"
      ],
      "metadata": {
        "id": "97Z8lkMNYeTl"
      },
      "execution_count": null,
      "outputs": []
    },
    {
      "cell_type": "code",
      "source": [
        "# Q. 15. Develop a correlation matrix for numeric columns and visualize it using a heatmap.\n",
        "\n",
        "numeric_cols = ['selling_price', 'year', 'km_driven', 'ex_showroom_price']\n",
        "corr_matrix = df[numeric_cols].corr()\n",
        "sns.heatmap(corr_matrix, annot=True, cmap='coolwarm')\n",
        "plt.title('Correlation Matrix')\n",
        "plt.show()"
      ],
      "metadata": {
        "id": "zWGgy-qyYg6s"
      },
      "execution_count": null,
      "outputs": []
    },
    {
      "cell_type": "code",
      "source": [],
      "metadata": {
        "id": "c1FqK7VgYjTW"
      },
      "execution_count": null,
      "outputs": []
    },
    {
      "cell_type": "markdown",
      "source": [
        "EDA - 2"
      ],
      "metadata": {
        "id": "V1NPuREKYmzW"
      }
    },
    {
      "cell_type": "code",
      "source": [
        "import pandas as pd\n",
        "from google.colab import files\n",
        "Data = files.upload()"
      ],
      "metadata": {
        "id": "rTTeuTuhYp30"
      },
      "execution_count": null,
      "outputs": []
    },
    {
      "cell_type": "code",
      "source": [
        "print (Data)"
      ],
      "metadata": {
        "id": "yXMILsBBYqs8"
      },
      "execution_count": null,
      "outputs": []
    },
    {
      "cell_type": "code",
      "source": [
        "# Q. 1. What is the average selling price of cars for each dealer, and how does it compare across different dealers?\n",
        "\n",
        "import pandas as pd\n",
        "\n",
        "# Load the dataset\n",
        "car_df = pd.read_csv(\"Car Sales.csv\")\n",
        "\n",
        "# Group by Dealer_Name and compute average selling price\n",
        "avg_price_by_dealer = car_df.groupby('Dealer_Name')['Price ($)'].mean().sort_values(ascending=False)\n",
        "\n",
        "# Display the top 10 and bottom 10 dealers by average price\n",
        "print(\"Top 10 dealers by average selling price:\")\n",
        "print(avg_price_by_dealer.head(10))\n",
        "\n",
        "print(\"\\nBottom 10 dealers by average selling price:\")\n",
        "print(avg_price_by_dealer.tail(10))"
      ],
      "metadata": {
        "id": "TkKKeAS3Y59E"
      },
      "execution_count": null,
      "outputs": []
    },
    {
      "cell_type": "code",
      "source": [
        "# Q. 2. Which car brand (Company) has the highest variation in prices, and what does this tell us about the pricing trends?\n",
        "\n",
        "import pandas as pd\n",
        "\n",
        "# Load the dataset\n",
        "car_df = pd.read_csv(\"Car Sales.csv\")\n",
        "\n",
        "# Group by car brand and calculate the standard deviation of prices\n",
        "price_variation = car_df.groupby('Company')['Price ($)'].std().sort_values(ascending=False)\n",
        "\n",
        "# Display the top 5 brands with the highest price variation\n",
        "print(\"Top 5 brands with the highest price variation:\")\n",
        "print(price_variation.head())"
      ],
      "metadata": {
        "id": "7Sb677MvY9Ss"
      },
      "execution_count": null,
      "outputs": []
    },
    {
      "cell_type": "code",
      "source": [
        "# Q. 3. What is the distribution of car prices for each transmission type, and how do the interquartile ranges compare?\n",
        "\n",
        "import pandas as pd\n",
        "import seaborn as sns\n",
        "import matplotlib.pyplot as plt\n",
        "\n",
        "# Load the dataset\n",
        "car_df = pd.read_csv(\"Car Sales.csv\")\n",
        "\n",
        "# Display boxplot of price distribution for each transmission type\n",
        "plt.figure(figsize=(8, 4))\n",
        "sns.boxplot(data=car_df, x='Transmission', y='Price ($)', palette='Set2')\n",
        "plt.title('Distribution of Car Prices by Transmission Type')\n",
        "plt.ylabel('Price (USD)')\n",
        "plt.xlabel('Transmission Type')\n",
        "plt.grid(True)\n",
        "plt.show()\n",
        "\n",
        "# Calculate IQR for each transmission type\n",
        "iqr_values = car_df.groupby('Transmission')['Price ($)'].describe()[['25%', '75%']]\n",
        "iqr_values['IQR'] = iqr_values['75%'] - iqr_values['25%']\n",
        "\n",
        "print(\"\\nInterquartile Ranges (IQR) for Transmission Types:\")\n",
        "print(iqr_values[['IQR']])"
      ],
      "metadata": {
        "id": "Fb6zkAjSZXjL"
      },
      "execution_count": null,
      "outputs": []
    },
    {
      "cell_type": "code",
      "source": [
        "# Q. 4. What is the distribution of car prices across different regions?\n",
        "\n",
        "import pandas as pd\n",
        "import seaborn as sns\n",
        "import matplotlib.pyplot as plt\n",
        "\n",
        "# Load the dataset\n",
        "car_df = pd.read_csv(\"Car Sales.csv\")\n",
        "\n",
        "# Set up the plot\n",
        "plt.figure(figsize=(8, 4))\n",
        "sns.boxplot(data=car_df, x='Dealer_Region', y='Price ($)', palette='pastel')\n",
        "plt.title('Distribution of Car Prices Across Regions')\n",
        "plt.ylabel('Price (USD)')\n",
        "plt.xlabel('Dealer Region')\n",
        "plt.xticks(rotation=45)\n",
        "plt.grid(True)\n",
        "plt.tight_layout()\n",
        "plt.show()\n",
        "\n",
        "# Optional: Summary statistics by region\n",
        "region_summary = car_df.groupby('Dealer_Region')['Price ($)'].describe()\n",
        "print(region_summary[['count', 'mean', '25%', '50%', '75%']])"
      ],
      "metadata": {
        "id": "7TP2uX4tZaaL"
      },
      "execution_count": null,
      "outputs": []
    },
    {
      "cell_type": "code",
      "source": [
        "# Q. 5. What is the distribution of cars based on body styles?\n",
        "\n",
        "import pandas as pd\n",
        "import seaborn as sns\n",
        "import matplotlib.pyplot as plt\n",
        "\n",
        "# Load the dataset\n",
        "car_df = pd.read_csv(\"Car Sales.csv\")\n",
        "\n",
        "# Plot the count of each body style\n",
        "plt.figure(figsize=(8, 4))\n",
        "sns.countplot(data=car_df, y='Body Style', order=car_df['Body Style'].value_counts().index, palette='coolwarm')\n",
        "plt.title('Distribution of Cars Based on Body Styles')\n",
        "plt.xlabel('Number of Cars')\n",
        "plt.ylabel('Body Style')\n",
        "plt.grid(axis='x')\n",
        "plt.tight_layout()\n",
        "plt.show()\n",
        "\n",
        "# Optional: Print counts\n",
        "print(car_df['Body Style'].value_counts())"
      ],
      "metadata": {
        "id": "PcWB8YfJZqii"
      },
      "execution_count": null,
      "outputs": []
    },
    {
      "cell_type": "code",
      "source": [
        "# Q. 6. How does the average selling price of cars vary by customer gender and annual income?\n",
        "\n",
        "import pandas as pd\n",
        "import seaborn as sns\n",
        "import matplotlib.pyplot as plt\n",
        "\n",
        "# Load dataset\n",
        "car_df = pd.read_csv(\"Car Sales.csv\")\n",
        "\n",
        "# Basic average price by gender\n",
        "avg_price_by_gender = car_df.groupby('Gender')['Price ($)'].mean()\n",
        "print(\"Average Selling Price by Gender:\\n\", avg_price_by_gender)\n",
        "\n",
        "# Optional: Bin annual income into brackets\n",
        "bins = [0, 50000, 100000, 250000, 500000, 1000000, 2000000]\n",
        "labels = ['<50K', '50K-100K', '100K-250K', '250K-500K', '500K-1M', '1M+']\n",
        "car_df['Income Bracket'] = pd.cut(car_df['Annual Income'], bins=bins, labels=labels)\n",
        "\n",
        "# Plot: Average price by gender and income bracket\n",
        "plt.figure(figsize=(8, 4))\n",
        "sns.barplot(data=car_df, x='Income Bracket', y='Price ($)', hue='Gender', ci=None, palette='Set2')\n",
        "plt.title('Average Selling Price by Gender and Annual Income Bracket')\n",
        "plt.ylabel('Average Price (USD)')\n",
        "plt.xlabel('Income Bracket')\n",
        "plt.legend(title='Gender')\n",
        "plt.grid(True)\n",
        "plt.tight_layout()\n",
        "plt.show()"
      ],
      "metadata": {
        "id": "-LmBeHlSZvmk"
      },
      "execution_count": null,
      "outputs": []
    },
    {
      "cell_type": "code",
      "source": [
        "# Q. 7. What is the distribution of car prices by region, and how does the number of cars sold vary by region?\n",
        "\n",
        "import pandas as pd\n",
        "import seaborn as sns\n",
        "import matplotlib.pyplot as plt\n",
        "\n",
        "# Load the dataset\n",
        "car_df = pd.read_csv(\"Car Sales.csv\")\n",
        "\n",
        "# --- Part 1: Distribution of car prices by region ---\n",
        "plt.figure(figsize=(8, 4))\n",
        "sns.boxplot(data=car_df, x='Dealer_Region', y='Price ($)', palette='pastel')\n",
        "plt.title('Distribution of Car Prices by Region')\n",
        "plt.xlabel('Region')\n",
        "plt.ylabel('Price (USD)')\n",
        "plt.xticks(rotation=45)\n",
        "plt.grid(True)\n",
        "plt.tight_layout()\n",
        "plt.show()\n",
        "\n",
        "# --- Part 2: Count of cars sold by region ---\n",
        "plt.figure(figsize=(8, 4))\n",
        "sns.countplot(data=car_df, x='Dealer_Region', order=car_df['Dealer_Region'].value_counts().index, palette='Set3')\n",
        "plt.title('Number of Cars Sold by Region')\n",
        "plt.xlabel('Region')\n",
        "plt.ylabel('Number of Cars Sold')\n",
        "plt.xticks(rotation=45)\n",
        "plt.grid(axis='y')\n",
        "plt.tight_layout()\n",
        "plt.show()\n",
        "\n",
        "# Optional: Print region-wise car counts\n",
        "print(\"\\nNumber of cars sold by region:\")\n",
        "print(car_df['Dealer_Region'].value_counts())"
      ],
      "metadata": {
        "id": "nwoW1hrjZ6_h"
      },
      "execution_count": null,
      "outputs": []
    },
    {
      "cell_type": "code",
      "source": [
        "# Q. 8. How does the average car price differ between cars with different engine sizes?\n",
        "\n",
        "import pandas as pd\n",
        "import matplotlib.pyplot as plt\n",
        "import seaborn as sns\n",
        "\n",
        "# Load the dataset\n",
        "# Assuming the CSV file is in the same directory as the script\n",
        "df = pd.read_csv(\"Car Sales.csv\")\n",
        "\n",
        "# Check the unique values in the 'Engine' column to confirm engine types\n",
        "print(\"Unique engine types:\", df['Engine'].unique())\n",
        "\n",
        "# Group by 'Engine' and calculate the mean price\n",
        "average_prices = df.groupby('Engine')['Price ($)'].mean().reset_index()\n",
        "\n",
        "# Rename columns for clarity\n",
        "average_prices.columns = ['Engine Type', 'Average Price ($)']\n",
        "\n",
        "# Round the average prices to 2 decimal places for readability\n",
        "average_prices['Average Price ($)'] = average_prices['Average Price ($)'].round(2)\n",
        "\n",
        "# Print the results\n",
        "print(\"\\nAverage Car Price by Engine Type:\")\n",
        "print(average_prices)\n",
        "\n",
        "# Calculate the price difference\n",
        "price_diff = average_prices['Average Price ($)'].max() - average_prices['Average Price ($)'].min()\n",
        "print(f\"\\nPrice difference between engine types: ${price_diff:.2f}\")\n",
        "\n",
        "# Optional: Visualize the average prices using a bar plot\n",
        "plt.figure(figsize=(8, 4))\n",
        "sns.barplot(x='Engine Type', y='Average Price ($)', data=average_prices, palette='Blues_d')\n",
        "plt.title('Average Car Price by Engine Type', fontsize=14)\n",
        "plt.xlabel('Engine Type', fontsize=12)\n",
        "plt.ylabel('Average Price ($)', fontsize=12)\n",
        "plt.xticks(rotation=15)\n",
        "plt.tight_layout()\n",
        "plt.show()"
      ],
      "metadata": {
        "id": "dNACgeS2aBcT"
      },
      "execution_count": null,
      "outputs": []
    },
    {
      "cell_type": "code",
      "source": [
        "# Q. 9. How do car prices vary based on the customer's annual income bracket?\n",
        "\n",
        "import pandas as pd\n",
        "import matplotlib.pyplot as plt\n",
        "import seaborn as sns\n",
        "\n",
        "# Load the dataset\n",
        "df = pd.read_csv(\"Car Sales.csv\")\n",
        "\n",
        "# Check for missing values in relevant columns\n",
        "print(\"Missing values in Annual Income:\", df['Annual Income'].isnull().sum())\n",
        "print(\"Missing values in Price ($):\", df['Price ($)'].isnull().sum())\n",
        "\n",
        "# Define income brackets using fixed ranges for interpretability\n",
        "# Adjust ranges based on the data distribution (e.g., based on quantiles or domain knowledge)\n",
        "bins = [0, 500000, 1000000, 1500000, 2000000, float('inf')]\n",
        "labels = ['< $500K', '$500K-$1M', '$1M-$1.5M', '$1.5M-$2M', '> $2M']\n",
        "df['Income Bracket'] = pd.cut(df['Annual Income'], bins=bins, labels=labels, include_lowest=True)\n",
        "\n",
        "# Calculate the average car price for each income bracket\n",
        "avg_prices_by_income = df.groupby('Income Bracket')['Price ($)'].mean().reset_index()\n",
        "avg_prices_by_income['Price ($)'] = avg_prices_by_income['Price ($)'].round(2)\n",
        "\n",
        "# Print the results\n",
        "print(\"\\nAverage Car Price by Income Bracket:\")\n",
        "print(avg_prices_by_income)\n",
        "\n",
        "# Visualize the average car prices by income bracket using a bar plot\n",
        "plt.figure(figsize=(7, 3))\n",
        "sns.barplot(x='Income Bracket', y='Price ($)', data=avg_prices_by_income, palette='viridis')\n",
        "plt.title('Average Car Price by Customer Income Bracket', fontsize=14)\n",
        "plt.xlabel('Annual Income Bracket', fontsize=12)\n",
        "plt.ylabel('Average Price ($)', fontsize=12)\n",
        "plt.xticks(rotation=45)\n",
        "plt.tight_layout()\n",
        "plt.show()\n",
        "\n",
        "# Optional: Box plot to show the distribution of car prices by income bracket\n",
        "plt.figure(figsize=(7, 3))\n",
        "sns.boxplot(x='Income Bracket', y='Price ($)', data=df, palette='viridis')\n",
        "plt.title('Distribution of Car Prices by Customer Income Bracket', fontsize=14)\n",
        "plt.xlabel('Annual Income Bracket', fontsize=12)\n",
        "plt.ylabel('Price ($)', fontsize=12)\n",
        "plt.xticks(rotation=45)\n",
        "plt.tight_layout()\n",
        "plt.show()"
      ],
      "metadata": {
        "id": "tx2htzSoaRti"
      },
      "execution_count": null,
      "outputs": []
    },
    {
      "cell_type": "code",
      "source": [
        "# Q. 10. What are the top 5 car models with the highest number of sales, and how does their price distribution look?\n",
        "\n",
        "import pandas as pd\n",
        "import matplotlib.pyplot as plt\n",
        "import seaborn as sns\n",
        "\n",
        "# Load the dataset\n",
        "df = pd.read_csv(\"Car Sales.csv\")\n",
        "\n",
        "# Check for missing values in relevant columns\n",
        "print(\"Missing values in Model:\", df['Model'].isnull().sum())\n",
        "print(\"Missing values in Price ($):\", df['Price ($)'].isnull().sum())\n",
        "\n",
        "# Step 1: Identify the top 5 car models with the highest number of sales\n",
        "model_sales = df['Model'].value_counts().reset_index()\n",
        "model_sales.columns = ['Model', 'Sales Count']\n",
        "top_5_models = model_sales.head(5)\n",
        "\n",
        "# Print the top 5 models and their sales counts\n",
        "print(\"\\nTop 5 Car Models by Sales Count:\")\n",
        "print(top_5_models)\n",
        "\n",
        "# Step 2: Filter the dataset to include only the top 5 models\n",
        "top_5_model_names = top_5_models['Model'].tolist()\n",
        "top_5_df = df[df['Model'].isin(top_5_model_names)]\n",
        "\n",
        "# Step 3: Compute summary statistics for the price distribution of the top 5 models\n",
        "price_stats = top_5_df.groupby('Model')['Price ($)'].describe().reset_index()\n",
        "price_stats = price_stats[['Model', 'count', 'mean', 'std', 'min', '25%', '50%', '75%', 'max']]\n",
        "price_stats['mean'] = price_stats['mean'].round(2)\n",
        "price_stats['std'] = price_stats['std'].round(2)\n",
        "price_stats['25%'] = price_stats['25%'].round(2)\n",
        "price_stats['50%'] = price_stats['50%'].round(2)\n",
        "price_stats['75%'] = price_stats['75%'].round(2)\n",
        "\n",
        "# Print the price distribution statistics\n",
        "print(\"\\nPrice Distribution Statistics for Top 5 Models:\")\n",
        "print(price_stats)\n",
        "\n",
        "# Step 4: Visualize the price distribution using a box plot\n",
        "plt.figure(figsize=(7, 3))\n",
        "sns.boxplot(x='Model', y='Price ($)', data=top_5_df, palette='Set2')\n",
        "plt.title('Price Distribution of Top 5 Car Models by Sales', fontsize=14)\n",
        "plt.xlabel('Car Model', fontsize=12)\n",
        "plt.ylabel('Price ($)', fontsize=12)\n",
        "plt.xticks(rotation=45)\n",
        "plt.tight_layout()\n",
        "plt.show()"
      ],
      "metadata": {
        "id": "RobC-_MqaYZZ"
      },
      "execution_count": null,
      "outputs": []
    },
    {
      "cell_type": "code",
      "source": [
        "# Q. 11. How does car price vary with engine size across different car colors, and which colors have the highest price variation?\n",
        "\n",
        "import pandas as pd\n",
        "import matplotlib.pyplot as plt\n",
        "import seaborn as sns\n",
        "\n",
        "# Load the dataset\n",
        "df = pd.read_csv(\"Car Sales.csv\")\n",
        "\n",
        "# Check for missing values in relevant columns\n",
        "print(\"Missing values in Engine:\", df['Engine'].isnull().sum())\n",
        "print(\"Missing values in Color:\", df['Color'].isnull().sum())\n",
        "print(\"Missing values in Price ($):\", df['Price ($)'].isnull().sum())\n",
        "\n",
        "# Check unique values in Engine and Color\n",
        "print(\"\\nUnique engine types:\", df['Engine'].unique())\n",
        "print(\"Unique colors:\", df['Color'].unique())\n",
        "\n",
        "# Step 1: Calculate average price by engine type and color\n",
        "avg_price_by_engine_color = df.groupby(['Engine', 'Color'])['Price ($)'].mean().reset_index()\n",
        "avg_price_by_engine_color['Price ($)'] = avg_price_by_engine_color['Price ($)'].round(2)\n",
        "\n",
        "# Pivot the data for better visualization\n",
        "pivot_table = avg_price_by_engine_color.pivot(index='Color', columns='Engine', values='Price ($)')\n",
        "\n",
        "# Print average prices\n",
        "print(\"\\nAverage Car Price by Engine Type and Color:\")\n",
        "print(pivot_table)\n",
        "\n",
        "# Step 2: Calculate price variation (standard deviation) by color\n",
        "price_variation_by_color = df.groupby('Color')['Price ($)'].std().reset_index()\n",
        "price_variation_by_color['Price ($)'] = price_variation_by_color['Price ($)'].round(2)\n",
        "price_variation_by_color = price_variation_by_color.sort_values(by='Price ($)', ascending=False)\n",
        "\n",
        "# Print price variation by color\n",
        "print(\"\\nPrice Variation (Standard Deviation) by Color:\")\n",
        "print(price_variation_by_color)\n",
        "\n",
        "# Step 3: Visualize average prices using a heatmap\n",
        "plt.figure(figsize=(7, 3))\n",
        "sns.heatmap(pivot_table, annot=True, fmt='.2f', cmap='YlGnBu', cbar_kws={'label': 'Average Price ($)'})\n",
        "plt.title('Average Car Price by Engine Type and Color', fontsize=14)\n",
        "plt.xlabel('Engine Type', fontsize=12)\n",
        "plt.ylabel('Color', fontsize=12)\n",
        "plt.tight_layout()\n",
        "plt.show()\n",
        "\n",
        "# Step 4: Visualize price distribution by color using a box plot\n",
        "plt.figure(figsize=(7, 3))\n",
        "sns.boxplot(x='Color', y='Price ($)', data=df, palette='Set2')\n",
        "plt.title('Price Distribution by Car Color', fontsize=14)\n",
        "plt.xlabel('Color', fontsize=12)\n",
        "plt.ylabel('Price ($)', fontsize=12)\n",
        "plt.xticks(rotation=45)\n",
        "plt.tight_layout()\n",
        "plt.show()"
      ],
      "metadata": {
        "id": "MQ68PsFQaqVE"
      },
      "execution_count": null,
      "outputs": []
    },
    {
      "cell_type": "code",
      "source": [
        "# Q. 12. Is there any seasonal trend in car sales based on the date of sale?\n",
        "\n",
        "import pandas as pd\n",
        "import matplotlib.pyplot as plt\n",
        "import seaborn as sns\n",
        "\n",
        "# Load the dataset\n",
        "df = pd.read_csv(\"Car Sales.csv\")\n",
        "\n",
        "# Check for missing values in the Date column\n",
        "print(\"Missing values in Date:\", df['Date'].isnull().sum())\n",
        "\n",
        "# Convert Date column to datetime\n",
        "df['Date'] = pd.to_datetime(df['Date'], format='%m/%d/%Y')\n",
        "\n",
        "# Extract month and month name for grouping\n",
        "df['Month'] = df['Date'].dt.month\n",
        "df['Month_Name'] = df['Date'].dt.strftime('%b')\n",
        "\n",
        "# Step 1: Count sales by month\n",
        "sales_by_month = df.groupby(['Month', 'Month_Name'])['Date'].count().reset_index()\n",
        "sales_by_month = sales_by_month.rename(columns={'Date': 'Sales Count'})\n",
        "sales_by_month = sales_by_month.sort_values('Month')  # Ensure months are in calendar order\n",
        "\n",
        "# Print sales by month\n",
        "print(\"\\nCar Sales Count by Month:\")\n",
        "print(sales_by_month[['Month_Name', 'Sales Count']])\n",
        "\n",
        "# Step 2: Map months to seasons\n",
        "def get_season(month):\n",
        "    if month in [12, 1, 2]:\n",
        "        return 'Winter'\n",
        "    elif month in [3, 4, 5]:\n",
        "        return 'Spring'\n",
        "    elif month in [6, 7, 8]:\n",
        "        return 'Summer'\n",
        "    else:\n",
        "        return 'Fall'\n",
        "\n",
        "df['Season'] = df['Month'].apply(get_season)\n",
        "\n",
        "# Count sales by season\n",
        "sales_by_season = df.groupby('Season')['Date'].count().reset_index()\n",
        "sales_by_season = sales_by_season.rename(columns={'Date': 'Sales Count'})\n",
        "season_order = ['Winter', 'Spring', 'Summer', 'Fall']\n",
        "sales_by_season = sales_by_season.set_index('Season').reindex(season_order).reset_index()\n",
        "\n",
        "# Print sales by season\n",
        "print(\"\\nCar Sales Count by Season:\")\n",
        "print(sales_by_season)\n",
        "\n",
        "# Step 3: Visualize sales by month\n",
        "plt.figure(figsize=(7, 3))\n",
        "sns.barplot(x='Month_Name', y='Sales Count', data=sales_by_month, palette='Blues_d')\n",
        "plt.title('Car Sales by Month', fontsize=14)\n",
        "plt.xlabel('Month', fontsize=12)\n",
        "plt.ylabel('Sales Count', fontsize=12)\n",
        "plt.tight_layout()\n",
        "plt.show()\n",
        "\n",
        "# Step 4: Visualize sales by season\n",
        "plt.figure(figsize=(7, 3))\n",
        "sns.barplot(x='Season', y='Sales Count', data=sales_by_season, palette='Set2', order=season_order)\n",
        "plt.title('Car Sales by Season', fontsize=14)\n",
        "plt.xlabel('Season', fontsize=12)\n",
        "plt.ylabel('Sales Count', fontsize=12)\n",
        "plt.tight_layout()\n",
        "plt.show()"
      ],
      "metadata": {
        "id": "vubeLJ3day2l"
      },
      "execution_count": null,
      "outputs": []
    },
    {
      "cell_type": "code",
      "source": [
        "# Q. 13. How does the car price distribution change when considering different combinations of body style and transmission type?\n",
        "\n",
        "import pandas as pd\n",
        "import matplotlib.pyplot as plt\n",
        "import seaborn as sns\n",
        "\n",
        "# Load the dataset\n",
        "df = pd.read_csv(\"Car Sales.csv\")\n",
        "\n",
        "# Check for missing values in relevant columns\n",
        "print(\"Missing values in Body Style:\", df['Body Style'].isnull().sum())\n",
        "print(\"Missing values in Transmission:\", df['Transmission'].isnull().sum())\n",
        "print(\"Missing values in Price ($):\", df['Price ($)'].isnull().sum())\n",
        "\n",
        "# Check unique values in Body Style and Transmission\n",
        "print(\"\\nUnique Body Styles:\", df['Body Style'].unique())\n",
        "print(\"Unique Transmission Types:\", df['Transmission'].unique())\n",
        "\n",
        "# Step 1: Create a combined column for Body Style and Transmission\n",
        "df['Body_Transmission'] = df['Body Style'] + ' - ' + df['Transmission']\n",
        "\n",
        "# Step 2: Compute summary statistics for price distribution by Body Style and Transmission\n",
        "price_stats = df.groupby('Body_Transmission')['Price ($)'].describe().reset_index()\n",
        "price_stats = price_stats[['Body_Transmission', 'count', 'mean', 'std', 'min', '25%', '50%', '75%', 'max']]\n",
        "price_stats['mean'] = price_stats['mean'].round(2)\n",
        "price_stats['std'] = price_stats['std'].round(2)\n",
        "price_stats['25%'] = price_stats['25%'].round(2)\n",
        "price_stats['50%'] = price_stats['50%'].round(2)\n",
        "price_stats['75%'] = price_stats['75%'].round(2)\n",
        "\n",
        "# Print summary statistics\n",
        "print(\"\\nPrice Distribution Statistics by Body Style and Transmission:\")\n",
        "print(price_stats)\n",
        "\n",
        "# Step 3: Visualize price distribution using a box plot\n",
        "plt.figure(figsize=(7, 3))\n",
        "sns.boxplot(x='Body_Transmission', y='Price ($)', data=df, palette='Set3')\n",
        "plt.title('Price Distribution by Body Style and Transmission Type', fontsize=14)\n",
        "plt.xlabel('Body Style - Transmission', fontsize=12)\n",
        "plt.ylabel('Price ($)', fontsize=12)\n",
        "plt.xticks(rotation=45, ha='right')\n",
        "plt.tight_layout()\n",
        "plt.show()\n",
        "\n",
        "# Step 4: Optional - Visualize price distribution using a violin plot for more detail\n",
        "plt.figure(figsize=(7, 3))\n",
        "sns.violinplot(x='Body_Transmission', y='Price ($)', data=df, palette='Set3')\n",
        "plt.title('Price Distribution by Body Style and Transmission Type (Violin Plot)', fontsize=14)\n",
        "plt.xlabel('Body Style - Transmission', fontsize=12)\n",
        "plt.ylabel('Price ($)', fontsize=12)\n",
        "plt.xticks(rotation=45, ha='right')\n",
        "plt.tight_layout()\n",
        "plt.show()"
      ],
      "metadata": {
        "id": "FwCvcOdkbA8D"
      },
      "execution_count": null,
      "outputs": []
    },
    {
      "cell_type": "code",
      "source": [
        "# Q. 14. What is the correlation between car price, engine size, and annual income of customers, and how do these features interact?\n",
        "\n",
        "import pandas as pd\n",
        "import matplotlib.pyplot as plt\n",
        "import seaborn as sns\n",
        "\n",
        "# Load the dataset\n",
        "df = pd.read_csv(\"Car Sales.csv\")\n",
        "\n",
        "# Check for missing values in relevant columns\n",
        "print(\"Missing values in Price ($):\", df['Price ($)'].isnull().sum())\n",
        "print(\"Missing values in Engine:\", df['Engine'].isnull().sum())\n",
        "print(\"Missing values in Annual Income:\", df['Annual Income'].isnull().sum())\n",
        "\n",
        "# Check unique values in Engine\n",
        "print(\"\\nUnique Engine Types:\", df['Engine'].unique())\n",
        "\n",
        "# Step 1: Encode Engine column numerically (proxy for engine size)\n",
        "# Assume Double Overhead Camshaft (potentially larger/more powerful) = 1, Overhead Camshaft = 0\n",
        "df['Engine_Encoded'] = df['Engine'].map({'Double Overhead Camshaft': 1, 'Overhead Camshaft': 0})\n",
        "\n",
        "# Step 2: Select relevant columns for correlation analysis\n",
        "features = ['Price ($)', 'Engine_Encoded', 'Annual Income']\n",
        "correlation_matrix = df[features].corr()\n",
        "\n",
        "# Print correlation matrix\n",
        "print(\"\\nCorrelation Matrix:\")\n",
        "print(correlation_matrix.round(4))\n",
        "\n",
        "# Step 3: Visualize the correlation matrix using a heatmap\n",
        "plt.figure(figsize=(7, 3))\n",
        "sns.heatmap(correlation_matrix, annot=True, cmap='coolwarm', vmin=-1, vmax=1, center=0)\n",
        "plt.title('Correlation Matrix of Car Price, Engine Size, and Annual Income', fontsize=14)\n",
        "plt.tight_layout()\n",
        "plt.show()\n",
        "\n",
        "# Step 4: Visualize pairwise relationships using scatter plots\n",
        "# Scatter plot: Price vs. Annual Income, colored by Engine Type\n",
        "plt.figure(figsize=(7, 3))\n",
        "sns.scatterplot(x='Annual Income', y='Price ($)', hue='Engine', size='Engine_Encoded', data=df, alpha=0.6)\n",
        "plt.title('Car Price vs. Annual Income by Engine Type', fontsize=14)\n",
        "plt.xlabel('Annual Income ($)', fontsize=12)\n",
        "plt.ylabel('Car Price ($)', fontsize=12)\n",
        "plt.tight_layout()\n",
        "plt.show()\n",
        "\n",
        "# Scatter plot: Price vs. Engine_Encoded (jittered for visibility)\n",
        "plt.figure(figsize=(7, 3))\n",
        "sns.stripplot(x='Engine_Encoded', y='Price ($)', data=df, jitter=True, alpha=0.5)\n",
        "plt.title('Car Price by Engine Type', fontsize=14)\n",
        "plt.xlabel('Engine Type (0 = Overhead Camshaft, 1 = Double Overhead Camshaft)', fontsize=12)\n",
        "plt.ylabel('Car Price ($)', fontsize=12)\n",
        "plt.xticks([0, 1], ['Overhead Camshaft', 'Double Overhead Camshaft'])\n",
        "plt.tight_layout()\n",
        "plt.show()\n",
        "\n",
        "# Step 5: Summarize price and income by engine type\n",
        "summary_stats = df.groupby('Engine')[['Price ($)', 'Annual Income']].describe()\n",
        "print(\"\\nSummary Statistics by Engine Type:\")\n",
        "print(summary_stats.round(2))"
      ],
      "metadata": {
        "id": "ZS6KWf7DbN8I"
      },
      "execution_count": null,
      "outputs": []
    },
    {
      "cell_type": "code",
      "source": [
        "# Q. 15. How does the average car price vary across different car models and engine types?\n",
        "\n",
        "import pandas as pd\n",
        "import matplotlib.pyplot as plt\n",
        "import seaborn as sns\n",
        "\n",
        "# Load the dataset\n",
        "df = pd.read_csv(\"Car Sales.csv\")\n",
        "\n",
        "# Check for missing values in relevant columns\n",
        "print(\"Missing values in Model:\", df['Model'].isnull().sum())\n",
        "print(\"Missing values in Engine:\", df['Engine'].isnull().sum())\n",
        "print(\"Missing values in Price ($):\", df['Price ($)'].isnull().sum())\n",
        "\n",
        "# Check unique values in Model and Engine\n",
        "print(\"\\nNumber of Unique Models:\", len(df['Model'].unique()))\n",
        "print(\"Unique Engine Types:\", df['Engine'].unique())\n",
        "\n",
        "# Step 1: Calculate average price by Model and Engine\n",
        "avg_price_by_model_engine = df.groupby(['Model', 'Engine'])['Price ($)'].mean().reset_index()\n",
        "avg_price_by_model_engine['Price ($)'] = avg_price_by_model_engine['Price ($)'].round(2)\n",
        "\n",
        "# Pivot the data for visualization (Models as rows, Engine types as columns)\n",
        "pivot_table = avg_price_by_model_engine.pivot(index='Model', columns='Engine', values='Price ($)')\n",
        "\n",
        "# Print average prices\n",
        "print(\"\\nAverage Car Price by Model and Engine Type (Pivoted):\")\n",
        "print(pivot_table)\n",
        "\n",
        "# Step 2: Visualize average prices using a heatmap\n",
        "plt.figure(figsize=(10, 3))\n",
        "sns.heatmap(pivot_table, annot=True, fmt='.2f', cmap='YlGnBu', cbar_kws={'label': 'Average Price ($)'})\n",
        "plt.title('Average Car Price by Model and Engine Type', fontsize=14)\n",
        "plt.xlabel('Engine Type', fontsize=12)\n",
        "plt.ylabel('Model', fontsize=12)\n",
        "plt.tight_layout()\n",
        "plt.show()\n",
        "\n",
        "# Step 3: Alternative visualization - Bar plot for top models\n",
        "# Select top 10 models by sales count to simplify visualization\n",
        "top_models = df['Model'].value_counts().head(10).index\n",
        "top_df = avg_price_by_model_engine[avg_price_by_model_engine['Model'].isin(top_models)]\n",
        "\n",
        "plt.figure(figsize=(7, 3))\n",
        "sns.barplot(x='Model', y='Price ($)', hue='Engine', data=top_df, palette='Set2')\n",
        "plt.title('Average Car Price for Top 10 Models by Engine Type', fontsize=14)\n",
        "plt.xlabel('Model', fontsize=12)\n",
        "plt.ylabel('Average Price ($)', fontsize=12)\n",
        "plt.xticks(rotation=45, ha='right')\n",
        "plt.legend(title='Engine Type')\n",
        "plt.tight_layout()\n",
        "plt.show()"
      ],
      "metadata": {
        "id": "YP8KwWOYbY4L"
      },
      "execution_count": null,
      "outputs": []
    },
    {
      "cell_type": "markdown",
      "source": [
        "EDA - 3"
      ],
      "metadata": {
        "id": "aMqWfMcncpYo"
      }
    },
    {
      "cell_type": "code",
      "source": [
        "import pandas as pd\n",
        "from google.colab import files\n",
        "Data = files.upload()"
      ],
      "metadata": {
        "id": "hScjNexefU_n"
      },
      "execution_count": null,
      "outputs": []
    },
    {
      "cell_type": "code",
      "source": [
        "print (Data)"
      ],
      "metadata": {
        "id": "GnsIcFRwfYC6"
      },
      "execution_count": null,
      "outputs": []
    },
    {
      "cell_type": "code",
      "source": [
        "# Q. 1. What is the average rating for each product category?\n",
        "\n",
        "import pandas as pd\n",
        "\n",
        "# Load the dataset\n",
        "# Assuming the CSV file is available locally or through a provided path\n",
        "df = pd.read_csv('Amazon Sales Data.csv')\n",
        "\n",
        "# Clean the 'rating' column: convert to numeric, handle non-numeric values\n",
        "df['rating'] = pd.to_numeric(df['rating'], errors='coerce')\n",
        "\n",
        "# Group by 'category' and calculate the mean rating\n",
        "average_ratings = df.groupby('category')['rating'].mean().reset_index()\n",
        "\n",
        "# Round the average ratings to 2 decimal places for readability\n",
        "average_ratings['rating'] = average_ratings['rating'].round(2)\n",
        "\n",
        "# Sort by category for better presentation\n",
        "average_ratings = average_ratings.sort_values(by='category')\n",
        "\n",
        "# Display the results\n",
        "print(\"Average Rating by Product Category:\")\n",
        "print(average_ratings)"
      ],
      "metadata": {
        "id": "YqXQMrtNfhHX"
      },
      "execution_count": null,
      "outputs": []
    },
    {
      "cell_type": "code",
      "source": [
        "# Q. 2. What are the top rating_count products by category?\n",
        "\n",
        "import pandas as pd\n",
        "\n",
        "# Load the dataset\n",
        "df = pd.read_csv('Amazon Sales Data.csv')\n",
        "\n",
        "# Clean the 'rating_count' column: remove commas and convert to numeric\n",
        "df['rating_count'] = df['rating_count'].str.replace(',', '')  # Remove commas\n",
        "df['rating_count'] = pd.to_numeric(df['rating_count'], errors='coerce')  # Convert to numeric\n",
        "\n",
        "# Group by 'category' and find the product with the maximum 'rating_count'\n",
        "top_rating_count = df.loc[df.groupby('category')['rating_count'].idxmax()]\n",
        "\n",
        "# Select relevant columns for output\n",
        "result = top_rating_count[['category', 'product_name', 'rating_count']]\n",
        "\n",
        "# Sort by category for better presentation\n",
        "result = result.sort_values(by='category').reset_index(drop=True)\n",
        "\n",
        "# Display the results\n",
        "print(\"Top Rating Count Products by Category:\")\n",
        "print(result)"
      ],
      "metadata": {
        "id": "H7nmbY1NfkSR"
      },
      "execution_count": null,
      "outputs": []
    },
    {
      "cell_type": "code",
      "source": [
        "# Q. 3. What is the distribution of discounted prices vs. actual prices?\n",
        "\n",
        "import pandas as pd\n",
        "import matplotlib.pyplot as plt\n",
        "import seaborn as sns\n",
        "\n",
        "# Load the dataset\n",
        "df = pd.read_csv('Amazon Sales Data.csv')\n",
        "\n",
        "# Clean the 'discounted_price' and 'actual_price' columns\n",
        "df['discounted_price'] = df['discounted_price'].str.replace('₹', '').str.replace(',', '').astype(float)\n",
        "df['actual_price'] = df['actual_price'].str.replace('₹', '').str.replace(',', '').astype(float)\n",
        "\n",
        "# Set up the plotting style\n",
        "sns.set(style=\"whitegrid\")\n",
        "\n",
        "# Create a figure with two subplots for histograms\n",
        "plt.figure(figsize=(8, 4))\n",
        "\n",
        "# Plot histogram for discounted_price\n",
        "plt.subplot(1, 2, 1)\n",
        "sns.histplot(df['discounted_price'].dropna(), bins=30, kde=True, color='blue')\n",
        "plt.title('Distribution of Discounted Prices')\n",
        "plt.xlabel('Discounted Price (INR)')\n",
        "plt.ylabel('Frequency')\n",
        "\n",
        "# Plot histogram for actual_price\n",
        "plt.subplot(1, 2, 2)\n",
        "sns.histplot(df['actual_price'].dropna(), bins=30, kde=True, color='green')\n",
        "plt.title('Distribution of Actual Prices')\n",
        "plt.xlabel('Actual Price (INR)')\n",
        "plt.ylabel('Frequency')\n",
        "\n",
        "# Adjust layout and display the plot\n",
        "plt.tight_layout()\n",
        "plt.show()\n",
        "\n",
        "# Compute and display summary statistics\n",
        "print(\"Summary Statistics for Discounted Prices:\")\n",
        "print(df['discounted_price'].describe())\n",
        "print(\"\\nSummary Statistics for Actual Prices:\")\n",
        "print(df['actual_price'].describe())"
      ],
      "metadata": {
        "id": "bx5aAObGfnKh"
      },
      "execution_count": null,
      "outputs": []
    },
    {
      "cell_type": "code",
      "source": [
        "# Q. 4. How does the average discount percentage vary across categories?\n",
        "\n",
        "import pandas as pd\n",
        "\n",
        "# Load the dataset\n",
        "df = pd.read_csv('Amazon Sales Data.csv')\n",
        "\n",
        "# Clean the 'discount_percentage' column: remove '%' and convert to numeric\n",
        "df['discount_percentage'] = df['discount_percentage'].str.replace('%', '').astype(float)\n",
        "\n",
        "# Group by 'category' and calculate the mean discount percentage\n",
        "average_discount = df.groupby('category')['discount_percentage'].mean().reset_index()\n",
        "\n",
        "# Round the average discount percentage to 2 decimal places\n",
        "average_discount['discount_percentage'] = average_discount['discount_percentage'].round(2)\n",
        "\n",
        "# Sort by category for better presentation\n",
        "average_discount = average_discount.sort_values(by='category').reset_index(drop=True)\n",
        "\n",
        "# Display the results\n",
        "print(\"Average Discount Percentage by Product Category:\")\n",
        "print(average_discount)"
      ],
      "metadata": {
        "id": "36YB2n8ifsvY"
      },
      "execution_count": null,
      "outputs": []
    },
    {
      "cell_type": "code",
      "source": [
        "# Q. 5. What are the most popular product names?\n",
        "\n",
        "import pandas as pd\n",
        "\n",
        "# Load the dataset\n",
        "df = pd.read_csv('Amazon Sales Data.csv')\n",
        "\n",
        "# Clean the 'rating_count' column: remove commas and convert to numeric\n",
        "df['rating_count'] = df['rating_count'].str.replace(',', '').astype(float)\n",
        "\n",
        "# Sort by 'rating_count' in descending order and select top 5\n",
        "top_products = df[['product_name', 'rating_count']].sort_values(by='rating_count', ascending=False).head(5)\n",
        "\n",
        "# Reset index for clean output\n",
        "top_products = top_products.reset_index(drop=True)\n",
        "\n",
        "# Display the results\n",
        "print(\"Top 5 Most Popular Product Names by Rating Count:\")\n",
        "print(top_products)"
      ],
      "metadata": {
        "id": "l8tOSUdGfu8w"
      },
      "execution_count": null,
      "outputs": []
    },
    {
      "cell_type": "code",
      "source": [
        "# Q. 6. What are the most popular product keywords?\n",
        "\n",
        "from collections import Counter\n",
        "keywords = df['product_name'].str.split().explode()\n",
        "keyword_counts = Counter(keywords).most_common(10)\n",
        "print(keyword_counts)"
      ],
      "metadata": {
        "id": "ZBbZromh0o63"
      },
      "execution_count": null,
      "outputs": []
    },
    {
      "cell_type": "code",
      "source": [
        "# Q. 7. What are the most popular product reviews?\n",
        "\n",
        "popular_reviews = df['review_title'].value_counts().head()\n",
        "print(popular_reviews)"
      ],
      "metadata": {
        "id": "lFEeiZ6m0vEa"
      },
      "execution_count": null,
      "outputs": []
    },
    {
      "cell_type": "code",
      "source": [
        "# Q. 8. What is the correlation between discounted_price and rating?\n",
        "\n",
        "import pandas as pd\n",
        "from scipy.stats import pearsonr\n",
        "\n",
        "# Load dataset\n",
        "df = pd.read_csv('Amazon Sales Data.csv')\n",
        "\n",
        "# Clean discounted_price and ensure rating is numeric\n",
        "df['discounted_price'] = df['discounted_price'].replace('[₹,]', '', regex=True).astype(float)\n",
        "df['rating'] = pd.to_numeric(df['rating'], errors='coerce')\n",
        "\n",
        "# Drop missing values\n",
        "df_clean = df[['discounted_price', 'rating']].dropna()\n",
        "\n",
        "# Calculate Pearson correlation\n",
        "correlation, p_value = pearsonr(df_clean['discounted_price'], df_clean['rating'])\n",
        "\n",
        "# Print results\n",
        "print(f\"Correlation: {correlation:.3f}, P-value: {p_value:.3f}\")"
      ],
      "metadata": {
        "id": "NW4OMqNV0yPv"
      },
      "execution_count": null,
      "outputs": []
    },
    {
      "cell_type": "code",
      "source": [
        "# Q. 9. What are the Top 5 categories based on the highest ratings?\n",
        "\n",
        "import pandas as pd\n",
        "\n",
        "# Load dataset\n",
        "df = pd.read_csv('Amazon Sales Data.csv')\n",
        "\n",
        "# Ensure rating is numeric\n",
        "df['rating'] = pd.to_numeric(df['rating'], errors='coerce')\n",
        "\n",
        "# Group by category and calculate mean rating, then sort and get top 5\n",
        "top_categories = df.groupby('category')['rating'].mean().sort_values(ascending=False).head(5)\n",
        "\n",
        "# Print results\n",
        "print(\"Top 5 Categories by Average Rating:\")\n",
        "print(top_categories)\n"
      ],
      "metadata": {
        "id": "bi2BHdec01_e"
      },
      "execution_count": null,
      "outputs": []
    },
    {
      "cell_type": "markdown",
      "source": [
        "# Q. 10. Identify any potential areas for improvement or optimization based on the data analysis.\n",
        "\n",
        "  - Answer:\n",
        "\n",
        "    - Method: Analyze low ratings, high discounts, or sparse reviews.\n",
        "\n",
        "      - Products with low `rating` (<3) may need quality improvements.\n",
        "\n",
        "      - Categories with high `discount_percentage` but low sales could optimize pricing.\n",
        "\n",
        "      - Products with few `rating_count` may benefit from better marketing."
      ],
      "metadata": {
        "id": "oAFzG0ZJ1Dl2"
      }
    },
    {
      "cell_type": "markdown",
      "source": [
        "EDA - 4\n"
      ],
      "metadata": {
        "id": "TJcUz68A1N3s"
      }
    },
    {
      "cell_type": "code",
      "source": [
        "import pandas as pd\n",
        "from google.colab import files\n",
        "Data = files.upload()"
      ],
      "metadata": {
        "id": "6dkPHiuP1SbQ"
      },
      "execution_count": null,
      "outputs": []
    },
    {
      "cell_type": "code",
      "source": [
        "print (Data)"
      ],
      "metadata": {
        "id": "no4NFg0N1XhH"
      },
      "execution_count": null,
      "outputs": []
    },
    {
      "cell_type": "code",
      "source": [
        "# Q. 1. Read the dataframe, check null value if present then do the needful, check duplicate row, if present then do the needful.\n",
        "\n",
        "import pandas as pd\n",
        "\n",
        "# Read the dataframe\n",
        "df = pd.read_csv('Spotify Data.csv')\n",
        "\n",
        "# Check for null values\n",
        "print(\"Null Values:\")\n",
        "print(df.isnull().sum())\n",
        "\n",
        "# Handle null values (drop rows with missing critical columns)\n",
        "df = df.dropna(subset=['Artist', 'Track Name', 'Popularity', 'Duration (ms)', 'Track ID'])\n",
        "\n",
        "# Check for duplicate rows\n",
        "print(\"\\nDuplicate Rows:\", df.duplicated().sum())\n",
        "\n",
        "# Remove duplicate rows\n",
        "df = df.drop_duplicates()\n",
        "\n",
        "# Confirm changes\n",
        "print(\"\\nShape after cleaning:\", df.shape)"
      ],
      "metadata": {
        "id": "WOqU6E1R2mx0"
      },
      "execution_count": null,
      "outputs": []
    },
    {
      "cell_type": "code",
      "source": [
        "# Q. 2. What is the distribution of popularity among the tracks in the dataset? Visualize it using a histogram.\n",
        "\n",
        "import matplotlib.pyplot as plt\n",
        "import seaborn as sns\n",
        "\n",
        "# Plot histogram\n",
        "plt.figure(figsize=(6, 4))\n",
        "sns.histplot(df['Popularity'], bins=20, kde=True)\n",
        "plt.title('Distribution of Track Popularity')\n",
        "plt.xlabel('Popularity')\n",
        "plt.ylabel('Frequency')\n",
        "plt.show()"
      ],
      "metadata": {
        "id": "trlG9C8v2rtO"
      },
      "execution_count": null,
      "outputs": []
    },
    {
      "cell_type": "code",
      "source": [
        "# Q. 3. Is there any relationship between the popularity and the duration of tracks? Explore this using a scatter plot.\n",
        "\n",
        "# Scatter plot\n",
        "plt.figure(figsize=(6, 4))\n",
        "plt.scatter(df['Duration (ms)'], df['Popularity'], alpha=0.5)\n",
        "plt.title('Popularity vs. Duration of Tracks')\n",
        "plt.xlabel('Duration (ms)')\n",
        "plt.ylabel('Popularity')\n",
        "plt.show()"
      ],
      "metadata": {
        "id": "U78s3fbN2zEx"
      },
      "execution_count": null,
      "outputs": []
    },
    {
      "cell_type": "code",
      "source": [
        "# Q. 4. Which artist has the highest number of tracks in the dataset? Display the count of tracks for each artist using a countplot.\n",
        "\n",
        "# Count tracks per artist\n",
        "artist_counts = df['Artist'].value_counts()\n",
        "top_artist = artist_counts.idxmax()\n",
        "print(f\"Artist with most tracks: {top_artist} ({artist_counts.max()} tracks)\")\n",
        "\n",
        "# Countplot\n",
        "plt.figure(figsize=(29, 6))\n",
        "sns.countplot(data=df, x='Artist', order=artist_counts.index)\n",
        "plt.title('Number of Tracks per Artist')\n",
        "plt.xlabel('Artist')\n",
        "plt.ylabel('Track Count')\n",
        "plt.xticks(rotation=45)\n",
        "plt.show()"
      ],
      "metadata": {
        "id": "iv0QQV573H1o"
      },
      "execution_count": null,
      "outputs": []
    },
    {
      "cell_type": "code",
      "source": [
        "# Q. 5. What are the top 5 least popular tracks in the dataset? Provide the artist name and track name for each.\n",
        "\n",
        "# Sort by popularity and get least popular\n",
        "least_popular = df[['Artist', 'Track Name', 'Popularity']].sort_values(by='Popularity').head(5)\n",
        "print(\"Top 5 least popular tracks:\\n\", least_popular)"
      ],
      "metadata": {
        "id": "JTXh3-dU3Orm"
      },
      "execution_count": null,
      "outputs": []
    },
    {
      "cell_type": "code",
      "source": [
        "# Q. 6. Among the top 5 most popular artists, which artist has the highest popularity on average? Calculate and display the average popularity for each artist.\n",
        "\n",
        "# Get top 5 artists by track count\n",
        "top_artists = df['Artist'].value_counts().head(5).index\n",
        "\n",
        "# Calculate average popularity for these artists\n",
        "avg_popularity = df[df['Artist'].isin(top_artists)].groupby('Artist')['Popularity'].mean()\n",
        "print(\"Average popularity for top 5 artists:\\n\", avg_popularity)\n",
        "\n",
        "# Identify the highest\n",
        "top_avg_artist = avg_popularity.idxmax()\n",
        "print(f\"Artist with highest average popularity: {top_avg_artist} ({avg_popularity.max():.2f})\")"
      ],
      "metadata": {
        "id": "_kG614p83vHR"
      },
      "execution_count": null,
      "outputs": []
    },
    {
      "cell_type": "code",
      "source": [
        "# Q. 7. For the top 5 most popular artists, what are their most popular tracks? List the track name for each artist.\n",
        "\n",
        "# Get top 5 artists\n",
        "top_artists = df['Artist'].value_counts().head(5).index\n",
        "\n",
        "# Find most popular track for each\n",
        "for artist in top_artists:\n",
        "    top_track = df[df['Artist'] == artist][['Track Name', 'Popularity']].sort_values(by='Popularity', ascending=False).head(1)\n",
        "    print(f\"{artist}: {top_track['Track Name'].values[0]} (Popularity: {top_track['Popularity'].values[0]})\")"
      ],
      "metadata": {
        "id": "rroMZHha3zep"
      },
      "execution_count": null,
      "outputs": []
    },
    {
      "cell_type": "code",
      "source": [
        "# Q. 8. Visualize relationships between multiple numerical variables simultaneously using a pair plot.\n",
        "\n",
        "# Pair plot for numerical columns\n",
        "sns.pairplot(df[['Popularity', 'Duration (ms)']])\n",
        "plt.suptitle('Pair Plot of Numerical Variables', y=1.02)\n",
        "plt.show()"
      ],
      "metadata": {
        "id": "f96RwrWi329G"
      },
      "execution_count": null,
      "outputs": []
    },
    {
      "cell_type": "code",
      "source": [
        "# Q. 9. Does the duration of tracks vary significantly across different artists? Explore this visually using a box plot or violin plot.\n",
        "\n",
        "# Box plot\n",
        "plt.figure(figsize=(29, 4))\n",
        "sns.boxplot(data=df, x='Artist', y='Duration (ms)')\n",
        "plt.title('Track Duration by Artist')\n",
        "plt.xlabel('Artist')\n",
        "plt.ylabel('Duration (ms)')\n",
        "plt.xticks(rotation=45)\n",
        "plt.show()"
      ],
      "metadata": {
        "id": "ZtoHO-HY36Wd"
      },
      "execution_count": null,
      "outputs": []
    },
    {
      "cell_type": "code",
      "source": [
        "# Q. 10. How does the distribution of track popularity vary for different artists? Visualize this using a swarm plot or a violin plot.\n",
        "\n",
        "# Violin plot\n",
        "plt.figure(figsize=(29, 6))\n",
        "sns.violinplot(data=df, x='Artist', y='Popularity')\n",
        "plt.title('Popularity Distribution by Artist')\n",
        "plt.xlabel('Artist')\n",
        "plt.ylabel('Popularity')\n",
        "plt.xticks(rotation=45)\n",
        "plt.show()"
      ],
      "metadata": {
        "id": "8528CgA74AUe"
      },
      "execution_count": null,
      "outputs": []
    },
    {
      "cell_type": "code",
      "source": [],
      "metadata": {
        "id": "_bisZXpS4PYQ"
      },
      "execution_count": null,
      "outputs": []
    }
  ]
}